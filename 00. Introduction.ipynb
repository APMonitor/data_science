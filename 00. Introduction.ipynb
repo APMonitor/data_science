{
 "cells": [
  {
   "cell_type": "markdown",
   "metadata": {},
   "source": [
    "### Python 🐍 Data Science with the TCLab\n",
    "\n",
    "Welcome to this data science course on Python! This course is intended to help you develop data science and machine learning skills in Python. A [beginning Python course](https://github.com/APMonitor/begin_python) is available for programmers with no prior programming experience. As with the beginning course, this course has video tutorials for each exercise if you have questions along the way. One of the unique things about this course is that you work on basic elements and then test your knowledge with data from hardware that controls heaters and measures temperatures. You will see your Python code have a real impact by designing the materials for a new product.\n",
    "\n",
    "[![Python Data Science](https://apmonitor.com/che263/uploads/Begin_Python/DataScience00.png)](https://www.youtube.com/watch?v=pAgW_bZVo88&list=PLLBUgWXdTBDg1Qgmwt4jKtVn9BWh5-zgy \"Python Data Science\")\n",
    "\n",
    "One of the best ways to start or review a programming language is to work on a project. These exercises are designed to teach data science Python programming skills. Data science applications are found across almost all industries where raw data is transformed into actionable information that drives scientific discovery, business innovations, and development.\n",
    "\n",
    "### Topics\n",
    "\n",
    "There are 12 lessons to help you with the objective of learning data science in Python. The first thing that you will need is to [install Anaconda](https://github.com/APMonitor/data_science/blob/master/00.%20Introduction.ipynb) to open and run the IPython notebook files in Jupyter. Any Python distribution or Integrated Development Environment (IDE) can be used (IDLE (python.org), Spyder, PyCharm, and others) but Jupyter notebook is required to open and run the IPython notebook (`.ipynb`) files. All of the IPython notebook (`.ipynb`) files can be [downloaded at this link](https://github.com/APMonitor/data_science/archive/master.zip). Don't forget to unzip the folder (extract the archive) and copy it to a convenient location before starting.\n",
    "\n",
    "1. [Overview](https://github.com/APMonitor/data_science/blob/master/01.%20Overview.ipynb)\n",
    "2. [Data Import and Export](https://github.com/APMonitor/data_science/blob/master/02.%20Import_Export.ipynb)\n",
    "3. [Data Analysis](https://github.com/APMonitor/data_science/blob/master/03.%20Analyze.ipynb)\n",
    "4. [Visualize Data](https://github.com/APMonitor/data_science/blob/master/04.%20Visualize.ipynb)\n",
    "5. [Prepare (Cleanse, Scale, Divide) Data](https://github.com/APMonitor/data_science/blob/master/05.%20Prepare_data.ipynb)\n",
    "6. [Regression](https://github.com/APMonitor/data_science/blob/master/06.%20Regression.ipynb)\n",
    "7. [Features](https://github.com/APMonitor/data_science/blob/master/07.%20Features.ipynb)\n",
    "8. [Classification](https://github.com/APMonitor/data_science/blob/master/08.%20Classification.ipynb)\n",
    "9. [Interpolation](https://github.com/APMonitor/data_science/blob/master/09.%20Interpolation.ipynb)\n",
    "10. [Solve Equations](https://github.com/APMonitor/data_science/blob/master/10.%20Solve_Equations.ipynb)\n",
    "11. [Differential Equations](https://github.com/APMonitor/data_science/blob/master/11.%20Differential_Equations.ipynb)\n",
    "12. [Time Series](https://github.com/APMonitor/data_science/blob/master/12.%20Time_Series.ipynb)\n",
    "\n",
    "### Install Python\n",
    "\n",
    "[Download and install Anaconda to use Jupyter](https://docs.anaconda.com/anaconda/install/) or [watch a video on how to install Anaconda](https://youtu.be/LrMOrMb8-3s).\n",
    "\n",
    "[![Install Anaconda](http://img.youtube.com/vi/LrMOrMb8-3s/0.jpg)](https://www.youtube.com/watch?v=LrMOrMb8-3s \"Install Anaconda\")\n",
    "\n",
    "There are additional instructions on how to [install Python and manage modules](https://apmonitor.com/pdc/index.php/Main/InstallPython).\n",
    "\n",
    "### Get TCLab\n",
    "\n",
    "You will need a [TCLab kit](https://apmonitor.com/heat.htm) to complete the exercises.  The TCLab is available for [purchase on Amazon](https://www.amazon.com/TCLab-Temperature-Control-Lab/dp/B07GMFWMRY). \n",
    "\n",
    "![Temperature Control Lab](http://apmonitor.com/pdc/uploads/Main/tclab_connect.png \"TCLab\")\n",
    "\n",
    "### Support\n",
    "\n",
    "We would love to hear any feedback or problems you would like to send us! We are always trying to improve this course and would like to hear about your experience. We can be contacted at support@apmonitor.com for issues related to the course or [getting started with the TCLab](https://apmonitor.com/pdc/index.php/Main/ArduinoSetup).\n",
    "\n",
    "### Additional Resources\n",
    "\n",
    "- [Begin Python Course](https://github.com/APMonitor/begin_python)\n",
    "- [Engineering Programming Course](https://apmonitor.com/che263) with [Source Code](https://github.com/APMonitor/learn_python)\n",
    "- [Temperature Control Lab (TCLab) Kit](http://apmonitor.com/pdc/index.php/Main/ArduinoTemperatureControl)\n",
    "- [Jupyter as interactive environment for Python, Julia, R](https://jupyter.org/)"
   ]
  }
 ],
 "metadata": {
  "kernelspec": {
   "display_name": "Python 3",
   "language": "python",
   "name": "python3"
  },
  "language_info": {
   "codemirror_mode": {
    "name": "ipython",
    "version": 3
   },
   "file_extension": ".py",
   "mimetype": "text/x-python",
   "name": "python",
   "nbconvert_exporter": "python",
   "pygments_lexer": "ipython3",
   "version": "3.8.5"
  }
 },
 "nbformat": 4,
 "nbformat_minor": 1
}
