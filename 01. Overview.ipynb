{
 "cells": [
  {
   "cell_type": "markdown",
   "metadata": {},
   "source": [
    "## 1. Overview\n",
    "\n",
    "[![Python Data Science](https://apmonitor.com/che263/uploads/Begin_Python/DataScience01.png)](https://www.youtube.com/watch?v=EO_YpBs8cs0 \"Python Data Science\")\n",
    "\n",
    "### Introduction\n",
    "\n",
    "Welcome to the course on data science with Python. This course steps through basic data science and machine learning skills to analyze data and create actionable information. It address major steps of the Cross-Industry Standard Process for Data Mining Cycle (CRISP-DM) that has 6 phases.\n",
    "\n",
    "1. Business Understanding - purpose of the data science project\n",
    "2. Data Understanding - assess available data to address the business case\n",
    "3. Data Preparation - exploratory data analysis, feature engineering, and transformations \n",
    "4. Modeling - select and train regressors or classifiers\n",
    "5. Evaluation - test models with various criteria\n",
    "6. Deployment - production phase to deploy models in data pipelines \n",
    "\n",
    "The 12 exercises are designed to be completed in 2-3 hours (15-20 minutes each) but sections can be skipped if you already have the background knowledge.\n",
    "\n",
    "1. [Overview (this lesson)](https://github.com/APMonitor/data_science/blob/master/01.%20Overview.ipynb)\n",
    "2. [Data Import and Export](https://github.com/APMonitor/data_science/blob/master/02.%20Import_Export.ipynb)\n",
    "3. [Data Analysis](https://github.com/APMonitor/data_science/blob/master/03.%20Analyze.ipynb)\n",
    "4. [Visualize Data](https://github.com/APMonitor/data_science/blob/master/04.%20Visualize.ipynb)\n",
    "5. [Prepare (Cleanse, Scale, Divide) Data](https://github.com/APMonitor/data_science/blob/master/05.%20Prepare_data.ipynb)\n",
    "6. [Regression](https://github.com/APMonitor/data_science/blob/master/06.%20Regression.ipynb)\n",
    "7. [Features](https://github.com/APMonitor/data_science/blob/master/07.%20Features.ipynb)\n",
    "8. [Classification](https://github.com/APMonitor/data_science/blob/master/08.%20Classification.ipynb)\n",
    "9. [Interpolation](https://github.com/APMonitor/data_science/blob/master/09.%20Interpolation.ipynb)\n",
    "10. [Solve Equations](https://github.com/APMonitor/data_science/blob/master/10.%20Solve_Equations.ipynb)\n",
    "11. [Differential Equations](https://github.com/APMonitor/data_science/blob/master/11.%20Differential_Equations.ipynb)\n",
    "12. [Time Series](https://github.com/APMonitor/data_science/blob/master/12.%20Time_Series.ipynb)\n",
    "\n",
    "It is best to follow the lessons in these steps because the later lessons build upon the information from the prior lessons.\n",
    "\n",
    "### Final Project\n",
    "\n",
    "![cell](https://apmonitor.com/che263/uploads/Begin_Python/cell.png)\n",
    "\n",
    "You are designing a next-generation cell phone and the battery and processor on the cell phone generate a lot of heat. You want to make sure that the material between them will prevent over-heating of the battery by the processor.\n",
    "\n",
    "![battery_cpu](https://apmonitor.com/che263/uploads/Begin_Python/battery_cpu.png)\n",
    "\n",
    "The final project will help you answer questions about material properties for predicting the temperature of the battery and processor. It uses data from the temperature control lab to determine thermal conductivity. See the [Final Project](https://github.com/APMonitor/data_science/blob/master/04.%20Visualize.ipynb) after going through the 12 lessons and when you are ready for the challenge."
   ]
  },
  {
   "cell_type": "markdown",
   "metadata": {},
   "source": [
    "### What Runs Python Commands?\n",
    "\n",
    "The Python executable runs the commands. A Jupyter notebook starts a Python session called a kernel. Restarting the kernel removes any of the prior cell results and stops any running code."
   ]
  },
  {
   "cell_type": "code",
   "execution_count": null,
   "metadata": {},
   "outputs": [],
   "source": [
    "import sys\n",
    "print(sys.executable)"
   ]
  },
  {
   "cell_type": "markdown",
   "metadata": {},
   "source": [
    "### Where is the Current Working Directory?\n",
    "\n",
    "The current working directory is where the IPython notebook is located. It is also where files will be stored and retrieved. It is possible to change the current working directory with `os.chdir(path)`"
   ]
  },
  {
   "cell_type": "code",
   "execution_count": null,
   "metadata": {},
   "outputs": [],
   "source": [
    "import os\n",
    "print(os.getcwd())"
   ]
  },
  {
   "cell_type": "markdown",
   "metadata": {},
   "source": [
    "There are seperate Jupyter notebook files to help with TCLab installation. There are also [Frequently Asked Questions](https://apmonitor.com/pdc/index.php/Main/ArduinoSetup) for setup and troubleshooting. More information on installation of TCLab package is in the IPython notebook __TCLab Help__."
   ]
  },
  {
   "cell_type": "code",
   "execution_count": null,
   "metadata": {},
   "outputs": [],
   "source": []
  },
  {
   "cell_type": "markdown",
   "metadata": {},
   "source": [
    "![exercise](https://apmonitor.com/che263/uploads/Begin_Python/exercise.png)\n",
    "\n",
    "### Python Package Management\n",
    "\n",
    "Package management in data science and machine learning is an important topic because of the pace of new releases. It may be important to have the latest or a specific version of a package.\n",
    "\n",
    "To install packages, use the `pip` (or `conda`) package manager. An alternative is to start an Anaconda prompt from the start menu, start a DOS prompt with Windows-key+r `cmd`, or terminal on MacOS/Linux and type:\n",
    "\n",
    "![gekko](https://apmonitor.com/che263/uploads/Begin_Python/gekko.png)\n",
    "\n",
    "```\n",
    "python -m pip install gekko\n",
    "```\n",
    "\n",
    "If you would like to run this same command in a Jupyter notebook then use an exclamation mark in front.\n",
    "\n",
    "```python\n",
    "!python -m pip install gekko\n",
    "```\n",
    "\n",
    "If you want to be sure that you are using the distribution of the current Python kernel use `sys.executable`.\n",
    "\n",
    "```python\n",
    "import sys\n",
    "!{sys.executable} -m pip install gekko\n",
    "```\n",
    "\n",
    "Packages used in this course include `gekko`, `keras`, `numpy`, `pandas`, `pyserial`, `sklearn`, `tclab`, `tensorflow`, and others. If there is an error that you are missing a package then `!pip install gekko` is typically sufficient to retrieve and install it. The `!` tells Jupyter to run from the system command line, not as a Python command although the `!` is now optional for `pip` in the latest version of Jupyter. Add `--user` (not your specific user name) if you do not have administrative privilege on the computer. The package manager `pip` retrieves the [lastest version of gekko](https://pypi.org/project/gekko/) from `pypi` and installs it in the Python distribution."
   ]
  },
  {
   "cell_type": "markdown",
   "metadata": {},
   "source": [
    "![idea](https://apmonitor.com/che263/uploads/Begin_Python/idea.png)\n",
    "\n",
    "### Install Package"
   ]
  },
  {
   "cell_type": "code",
   "execution_count": null,
   "metadata": {},
   "outputs": [],
   "source": [
    "!python -m pip install --user gekko"
   ]
  },
  {
   "cell_type": "markdown",
   "metadata": {},
   "source": [
    "![idea](https://apmonitor.com/che263/uploads/Begin_Python/idea.png)\n",
    "\n",
    "### List Available Packages and Versions"
   ]
  },
  {
   "cell_type": "code",
   "execution_count": null,
   "metadata": {},
   "outputs": [],
   "source": [
    "!python -m pip list"
   ]
  },
  {
   "cell_type": "markdown",
   "metadata": {},
   "source": [
    "![idea](https://apmonitor.com/che263/uploads/Begin_Python/idea.png)\n",
    "\n",
    "### Uninstall Package\n",
    "\n",
    "If you need to `uninstall` a package then use the command line because it will ask for a `yes`/`no` response or else add `--yes` to automatically answer the confirmation message. Don't forget to reinstall the package if you need it."
   ]
  },
  {
   "cell_type": "code",
   "execution_count": null,
   "metadata": {},
   "outputs": [],
   "source": [
    "!python -m pip uninstall gekko --yes"
   ]
  },
  {
   "cell_type": "markdown",
   "metadata": {},
   "source": [
    "![idea](https://apmonitor.com/che263/uploads/Begin_Python/idea.png)\n",
    "\n",
    "### Install Specific Version\n",
    "\n",
    "You may need to get a specific package version by specifying a version such as `0.2.0`."
   ]
  },
  {
   "cell_type": "code",
   "execution_count": null,
   "metadata": {},
   "outputs": [],
   "source": [
    "!python -m pip install gekko==0.2.0"
   ]
  },
  {
   "cell_type": "markdown",
   "metadata": {},
   "source": [
    "![idea](https://apmonitor.com/che263/uploads/Begin_Python/idea.png)\n",
    "\n",
    "### Upgrade Package\n",
    "\n",
    "If you have an older version and want to upgrade to the latest stable release use `--upgrade`"
   ]
  },
  {
   "cell_type": "code",
   "execution_count": null,
   "metadata": {},
   "outputs": [],
   "source": [
    "!python -m pip install gekko --upgrade"
   ]
  },
  {
   "cell_type": "markdown",
   "metadata": {},
   "source": [
    "![list](https://apmonitor.com/che263/uploads/Begin_Python/list.png)\n",
    "\n",
    "### `pip` Summary\n",
    "\n",
    "The `pip` tool facilitates package management in Python using `install`, `list`, and `uninstall` commands.\n",
    "\n",
    "```python\n",
    "!python -m pip {command} {package name}\n",
    "```"
   ]
  },
  {
   "cell_type": "markdown",
   "metadata": {},
   "source": [
    "![expert](https://apmonitor.com/che263/uploads/Begin_Python/expert.png)\n",
    "\n",
    "### Install TCLab Module and Test LED\n",
    "\n",
    "You need the TCLab to do the exercises but there are sample data files if you do not have a device. The [TCLab](https://apmonitor.com/heat.htm) is available online with [Amazon](https://www.amazon.com/TCLab-Temperature-Control-Lab/dp/B07GMFWMRY) or with a [few other options](https://apmonitor.com/pdc/index.php/Main/PurchaseLabKit). As a first step, plug in the TCLab (USB blue cable only) and install the package with `python -m pip install tclab` or by running the cell below (`Ctrl+Enter`). Restart the Python kernel with `Kernel...Restart & Run All` from the menu if there is an error importing `tclab` after the installation."
   ]
  },
  {
   "cell_type": "code",
   "execution_count": null,
   "metadata": {},
   "outputs": [],
   "source": [
    "# install tclab\n",
    "try:\n",
    "    import tclab\n",
    "except:\n",
    "    # Needed to communicate through usb port\n",
    "    !python -m pip install --user pyserial\n",
    "    # The --user is put in for accounts without admin privileges\n",
    "    !python -m pip install --user tclab \n",
    "    # restart kernel if this doesn't import\n",
    "    try:\n",
    "        import tclab\n",
    "    except:\n",
    "        print('Restart kernel from menu if Dead kernel')\n",
    "        print('Restart kernel automatically...')\n",
    "        import IPython\n",
    "        app = IPython.Application.instance()\n",
    "        app.kernel.do_shutdown(restart=True) "
   ]
  },
  {
   "cell_type": "markdown",
   "metadata": {},
   "source": [
    "![connections_no_power](https://apmonitor.com/che263/uploads/Begin_Python/connections_no_power.png)\n",
    "\n",
    "The following code blinks the LED for 10 seconds. You only need to connect the blue USB cable to the computer. The white power cable is only needed for the heaters. "
   ]
  },
  {
   "cell_type": "code",
   "execution_count": null,
   "metadata": {},
   "outputs": [],
   "source": [
    "import tclab\n",
    "import time\n",
    "try:\n",
    "    # tclab test\n",
    "    with tclab.TCLab() as lab:\n",
    "        for i in range(10):\n",
    "            lab.LED(100)    # turn on LED\n",
    "            time.sleep(0.8) # wait 0.8 seconds\n",
    "            lab.LED(0)      # turn off LED\n",
    "            time.sleep(0.2) # wait 0.2 seconds\n",
    "except:\n",
    "    print('No TCLab found')"
   ]
  }
 ],
 "metadata": {
  "kernelspec": {
   "display_name": "Python 3",
   "language": "python",
   "name": "python3"
  },
  "language_info": {
   "codemirror_mode": {
    "name": "ipython",
    "version": 3
   },
   "file_extension": ".py",
   "mimetype": "text/x-python",
   "name": "python",
   "nbconvert_exporter": "python",
   "pygments_lexer": "ipython3",
   "version": "3.7.4"
  }
 },
 "nbformat": 4,
 "nbformat_minor": 2
}
