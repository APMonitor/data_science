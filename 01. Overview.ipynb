{
 "cells": [
  {
   "cell_type": "markdown",
   "metadata": {},
   "source": [
    "## 1. Overview\n",
    "\n",
    "### Background\n",
    "\n",
    "![cell](https://apmonitor.com/che263/uploads/Begin_Python/cell.png)\n",
    "\n",
    "Suppose that you are designing a next-generation cell phone. The battery and processor on the cell phone generate a lot of heat. You want to make sure that the material between them will prevent over-heating of the battery by the processor.\n",
    "\n",
    "![battery_cpu](https://apmonitor.com/che263/uploads/Begin_Python/battery_cpu.png)\n",
    "\n",
    "This study will help you answer questions about material properties for predicting the temperature of the battery and processor. It uses data from the temperature control lab to determine thermal conductivity of copper, plastic, and cardboard.\n",
    "\n",
    "![tclab_inserts](http://apmonitor.com/che263/uploads/Main/tclab_inserts.jpg)\n",
    "\n",
    "### Introduction\n",
    "\n",
    "Every programmer must have basic background knowledge before using the language in more complex projects. This tutorial steps through basic data science skills to analyze the more complex temperature data. The 12 exercises are designed to be completed in 2-3 hours (15-20 minutes each) but sections can be skipped if you already have the background knowledge.\n",
    "\n",
    "1. [Overview (this lesson)](https://github.com/APMonitor/data_science/blob/master/01.%20Overview.ipynb)\n",
    "2. [Data Import and Export](https://github.com/APMonitor/data_science/blob/master/02.%20Import_Export.ipynb)\n",
    "3. [Data Analysis](https://github.com/APMonitor/data_science/blob/master/03.%20Analyze.ipynb)\n",
    "4. [Visualize Data](https://github.com/APMonitor/data_science/blob/master/04.%20Visualize.ipynb)\n",
    "5. [Prepare (Cleanse, Scale, Divide) Data](https://github.com/APMonitor/data_science/blob/master/05.%20Prepare_data.ipynb)\n",
    "6. [Regression](https://github.com/APMonitor/data_science/blob/master/06.%20Regression.ipynb)\n",
    "7. [Features](https://github.com/APMonitor/data_science/blob/master/07.%20Features.ipynb)\n",
    "8. [Classification](https://github.com/APMonitor/data_science/blob/master/08.%20Classification.ipynb)\n",
    "9. [Interpolation](https://github.com/APMonitor/data_science/blob/master/09.%20Interpolation.ipynb)\n",
    "10. [Solve Equations](https://github.com/APMonitor/data_science/blob/master/10.%20Solve_Equations.ipynb)\n",
    "11. [Differential Equations](https://github.com/APMonitor/data_science/blob/master/11.%20Differential_Equations.ipynb)\n",
    "12. [Digital Twin](https://github.com/APMonitor/data_science/blob/master/12.%20Digital_Twin.ipynb)\n",
    "\n",
    "It is best to follow the lessons in these steps because the later lessons build upon the information from the prior lessons.\n",
    "\n",
    "### Install TCLab Module and Test LED\n",
    "\n",
    "![connections_no_power](https://apmonitor.com/che263/uploads/Begin_Python/connections_no_power.png)\n",
    "\n",
    "You need the TCLab to do the exercises. As a first step, plug in the TCLab (USB blue cable only) and install the package with `pip install tclab` or by running the cell below (`Ctrl+Enter`). Restart the Python kernal with `Kernel...Restart & Run All` from the menu if there is an error importing `tclab` after the installation."
   ]
  },
  {
   "cell_type": "code",
   "execution_count": null,
   "metadata": {},
   "outputs": [],
   "source": [
    "# install tclab\n",
    "try:\n",
    "    import tclab\n",
    "except:\n",
    "    # Needed to communicate through usb port\n",
    "    !pip install --user pyserial\n",
    "    # The --user is put in for accounts without admin privileges\n",
    "    !pip install --user tclab \n",
    "    # restart kernel if this doesn't import\n",
    "    import tclab\n",
    "    \n",
    "import time\n",
    "\n",
    "# tclab test\n",
    "lab = tclab.TCLab()\n",
    "lab.LED(100)  # turn on LED\n",
    "time.sleep(5) # wait 5 seconds\n",
    "lab.LED(0)    # turn off LED\n",
    "lab.close()"
   ]
  },
  {
   "cell_type": "markdown",
   "metadata": {},
   "source": [
    "There are seperate Jupyter notebook files to help with TCLab installation. There are also [Frequently Asked Questions](https://apmonitor.com/pdc/index.php/Main/ArduinoSetup) for setup and troubleshooting. More information on installation of TCLab package is in the IPython notebook __TCLab Help__."
   ]
  }
 ],
 "metadata": {
  "kernelspec": {
   "display_name": "Python 3",
   "language": "python",
   "name": "python3"
  },
  "language_info": {
   "codemirror_mode": {
    "name": "ipython",
    "version": 3
   },
   "file_extension": ".py",
   "mimetype": "text/x-python",
   "name": "python",
   "nbconvert_exporter": "python",
   "pygments_lexer": "ipython3",
   "version": "3.7.4"
  }
 },
 "nbformat": 4,
 "nbformat_minor": 2
}
