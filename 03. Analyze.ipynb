{
 "cells": [
  {
   "cell_type": "markdown",
   "metadata": {},
   "source": [
    "## 3. Analyze Data\n",
    "\n",
    "![list](https://apmonitor.com/che263/uploads/Begin_Python/list.png)\n",
    "\n",
    "Once data is read into Python, a typical first step is to summarize the data with statistical analysis. This is especially true if the data is inconvenient or too large to view in a spreadsheet like Microsoft Excel (limited to 1,048,576 rows and 16,384 columns). Summary statistics include the count, mean, standard deviation, maximum, minimum, and quartile information for the data columns. Use the `requests` module to download [sample data](https://apmonitor.com/pdc/uploads/Main/tclab_data2.txt) as `03-tclab.csv` to the local directory. "
   ]
  },
  {
   "cell_type": "code",
   "execution_count": null,
   "metadata": {},
   "outputs": [],
   "source": [
    "import requests\n",
    "url = 'http://apmonitor.com/pdc/uploads/Main/tclab_data2.txt'\n",
    "r = requests.get(url)\n",
    "with open('03-tclab.csv', 'wb') as f:\n",
    "    f.write(r.content)"
   ]
  },
  {
   "cell_type": "markdown",
   "metadata": {},
   "source": [
    "#### Use `numpy` to analyze data\n",
    "\n",
    "The `np.loadtxt` function reads the TCLab CSV data file `03-tclab.csv`. The numpy functions `size` (dimensions), `mean` (average), `std` (standard deviation), and `median` are summary statistics. If you don't specify the `axis` then `numpy` gives a statistic across both the rows (`axis=0`) and columns (`axis=1`)."
   ]
  },
  {
   "cell_type": "code",
   "execution_count": null,
   "metadata": {},
   "outputs": [],
   "source": [
    "import numpy as np\n",
    "data = np.loadtxt('03-tclab.csv',delimiter=',',skiprows=1)\n",
    "\n",
    "print('Dimension (rows=0,columns=1):')\n",
    "print(np.size(data,0),np.size(data,1))\n",
    "\n",
    "print('Average:')\n",
    "print(np.mean(data,axis=0))\n",
    "\n",
    "print('Standard Deviation:')\n",
    "print(np.std(data,0))\n",
    "\n",
    "print('Median:')\n",
    "print(np.median(data,0))"
   ]
  },
  {
   "cell_type": "markdown",
   "metadata": {},
   "source": [
    "#### Use `pandas` to analyze data\n",
    "\n",
    "Pandas simplifies the data analysis with the `.describe()` function that is a method of `DataFrame` that is created with `pd.read_csv()`. Note that the data file can either be a local file name or a web-address such as \n",
    "\n",
    "```python\n",
    "url='https://apmonitor.com/pdc/uploads/Main/tclab_data2.txt'\n",
    "data = pd.read_csv(url)\n",
    "```"
   ]
  },
  {
   "cell_type": "code",
   "execution_count": null,
   "metadata": {},
   "outputs": [],
   "source": [
    "import pandas as pd\n",
    "data = pd.read_csv('03-tclab.csv')\n",
    "data.describe()"
   ]
  },
  {
   "cell_type": "markdown",
   "metadata": {},
   "source": [
    "### Activity\n",
    "\n",
    "![expert](https://apmonitor.com/che263/uploads/Begin_Python/expert.png)\n",
    "\n",
    "Generate a file from the TCLab data with seconds (`t`), heater levels (`Q1` and `Q2`), and temperatures (`lab.T1` and `lab.T2`). Record data every second for 120 seconds and change the heater levels every 30 seconds to a random number between 0 and 80 with `np.random.randint()`. There is no need to change this program, only run it for 2 minutes to collect the data."
   ]
  },
  {
   "cell_type": "code",
   "execution_count": null,
   "metadata": {},
   "outputs": [],
   "source": [
    "import tclab, time, csv\n",
    "import numpy as np\n",
    "n = 120 \n",
    "with open('03-tclab_new.csv',mode='w',newline='') as f:\n",
    "    cw = csv.writer(f)\n",
    "    cw.writerow(['Time','Q1','Q2','T1','T2'])\n",
    "    with tclab.TCLab() as lab:\n",
    "        print('t Q1 Q2 T1    T2')\n",
    "        for t in range(n):\n",
    "            if t%30==0:\n",
    "                Q1 = np.random.randint(0,81)\n",
    "                Q2 = np.random.randint(0,81)\n",
    "                lab.Q1(Q1); lab.Q2(Q2)\n",
    "            cw.writerow([t,Q1,Q2,lab.T1,lab.T2])\n",
    "            if t%5==0:\n",
    "                print(t,Q1,Q2,lab.T1,lab.T2)\n",
    "            time.sleep(1)"
   ]
  },
  {
   "cell_type": "markdown",
   "metadata": {},
   "source": [
    "Read the file `03-tclab_new.csv` and display summary statistics with `data.describe()`. If you do not have a TCLab device, read the data file from the web address with `data=pd.read_csv('http://apmonitor.com/pdc/uploads/Main/tclab_data2.txt')`."
   ]
  },
  {
   "cell_type": "code",
   "execution_count": null,
   "metadata": {},
   "outputs": [],
   "source": []
  }
 ],
 "metadata": {
  "kernelspec": {
   "display_name": "Python 3",
   "language": "python",
   "name": "python3"
  },
  "language_info": {
   "codemirror_mode": {
    "name": "ipython",
    "version": 3
   },
   "file_extension": ".py",
   "mimetype": "text/x-python",
   "name": "python",
   "nbconvert_exporter": "python",
   "pygments_lexer": "ipython3",
   "version": "3.7.4"
  }
 },
 "nbformat": 4,
 "nbformat_minor": 2
}
