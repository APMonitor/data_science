{
 "cells": [
  {
   "cell_type": "markdown",
   "metadata": {},
   "source": [
    "## 4. Visualize Data\n",
    "\n",
    "[Data Science Playlist on YouTube](https://www.youtube.com/watch?v=w97CsaLuEvI&list=PLLBUgWXdTBDg1Qgmwt4jKtVn9BWh5-zgy)\n",
    "[![Python Data Science](https://apmonitor.com/che263/uploads/Begin_Python/DataScience04.png)](https://www.youtube.com/watch?v=w97CsaLuEvI&list=PLLBUgWXdTBDg1Qgmwt4jKtVn9BWh5-zgy \"Python Data Science\")\n",
    "\n",
    "In addition to summary statistics, data visualization helps to understand the data characteristics and how different variables are related.\n",
    "\n",
    "![analyze](https://apmonitor.com/che263/uploads/Begin_Python/analyze.png)\n",
    "\n",
    "There are many examples of data visualization with [Matplotlib](https://matplotlib.org/gallery/index.html), [Seaborn](https://seaborn.pydata.org/examples/index.html), and [Plotly](https://plot.ly/python/). In this tutorial, we go through a few examples for showing:\n",
    "\n",
    "- time series: line\n",
    "- correlated variables: scatter, pair plot\n",
    "- data distributions: bar, box, violin, distribution, joint plot\n",
    "\n",
    "Each plot is shown with one of the graphing packages. Matplotlib is a base-level Python package, Seaborn is uses matplotlib and automates more complex plots, and Plotly creates engaging interactive plots."
   ]
  },
  {
   "cell_type": "code",
   "execution_count": null,
   "metadata": {},
   "outputs": [],
   "source": [
    "import matplotlib.pyplot as plt\n",
    "%matplotlib inline\n",
    "import seaborn as sns\n",
    "import plotly.express as px"
   ]
  },
  {
   "cell_type": "markdown",
   "metadata": {},
   "source": [
    "![idea](https://apmonitor.com/che263/uploads/Begin_Python/idea.png)\n",
    "\n",
    "### Generate Data\n",
    "\n",
    "Run the next cell to:\n",
    "\n",
    "- Generate `n` linearly spaced values betweeen `0` and `n-1` with `np.linspace(start,end,count)`\n",
    "- Select random samples from a uniform distribution between 0 and 1 with `np.random.rand(count)`\n",
    "- Select random samples from a normal (Gaussian) distribution with `np.random.normal(mean,std,count)`\n",
    "- Create a time series that changes based on `y[i]*0.1` staying within the range `-3` to `3`\n",
    "- Combine `tt`, `x`, `y`, and `z` with a vertical stack `np.vstack` and transpose `.T` for column oriented data\n",
    "- Create pandas DataFrame with columns `tt`, `x`, `y`, and `z`"
   ]
  },
  {
   "cell_type": "code",
   "execution_count": null,
   "metadata": {},
   "outputs": [],
   "source": [
    "import numpy as np\n",
    "import pandas as pd\n",
    "np.random.seed(0) # change seed for different answer\n",
    "n = 1000\n",
    "tt = np.linspace(0,n-1,n)\n",
    "x = np.random.rand(n)+tt/500\n",
    "y = np.random.normal(0,x,n)\n",
    "z = [0]\n",
    "for i in range(1,n):\n",
    "    z.append(min(max(-3,z[i-1]+y[i]*0.1),3))\n",
    "data = pd.DataFrame(np.vstack((tt,x,y,z)).T,\\\n",
    "                    columns=['time','x','y','z'])\n",
    "data['w'] = '0-499'\n",
    "for i in range(int(n/2),n):\n",
    "    data.at[i,'w'] = '500-999'\n",
    "data.head()"
   ]
  },
  {
   "cell_type": "markdown",
   "metadata": {},
   "source": [
    "![idea](https://apmonitor.com/che263/uploads/Begin_Python/idea.png)\n",
    "\n",
    "### Plot\n",
    "\n",
    "A line plot is the most basic type. There is an introductory tutorial on plots in the [Begin Python Course, Lesson 12](https://github.com/APMonitor/begin_python/blob/master/12.%20Plotting.ipynb). Visit that course module if you need additional information on basic plots such as `plt.plot()`"
   ]
  },
  {
   "cell_type": "code",
   "execution_count": null,
   "metadata": {},
   "outputs": [],
   "source": [
    "plt.plot(tt,z)\n",
    "plt.show()"
   ]
  },
  {
   "cell_type": "markdown",
   "metadata": {},
   "source": [
    "The line plot can also be improved with customized trend styles. Below is an example with common options.\n",
    "\n",
    "**c=Colors**\n",
    "\n",
    "    =============    ===============================\n",
    "    character        color\n",
    "    =============    ===============================\n",
    "    ``'b'``          blue\n",
    "    ``'g'``          green\n",
    "    ``'r'``          red\n",
    "    ``'y'``          yellow\n",
    "    ``'k'``          black\n",
    "    =============    ===============================\n",
    "\n",
    "**m=Markers**\n",
    "\n",
    "    =============    ===============================\n",
    "    character        description\n",
    "    =============    ===============================\n",
    "    ``'.'``          point marker\n",
    "    ``'o'``          circle marker\n",
    "    ``'s'``          square marker\n",
    "    ``'^'``          triangle marker\n",
    "    ``'*'``          star marker\n",
    "    =============    ===============================\n",
    "\n",
    "**ln=Line Styles**\n",
    "\n",
    "    =============    ===============================\n",
    "    character        description\n",
    "    =============    ===============================\n",
    "    ``'-'``          solid line style\n",
    "    ``'--'``         dashed line style\n",
    "    ``'-.'``         dash-dot line style\n",
    "    ``':'``          dotted line style\n",
    "    =============    ==============================="
   ]
  },
  {
   "cell_type": "code",
   "execution_count": null,
   "metadata": {},
   "outputs": [],
   "source": [
    "plt.figure(1,figsize=(10,6))                         # adjust figure size\n",
    "ax=plt.subplot(2,1,1)                                # subplot 1\n",
    "plt.plot(tt,z,'r-',linewidth=3,label='z')            # plot red line\n",
    "ax.grid()                                            # add grid\n",
    "plt.ylabel('z'); plt.legend()                        # add ylabel, legend\n",
    "plt.subplot(2,1,2)                                   # subplot 2\n",
    "plt.plot(tt,x,'b.',label='x')                        # plot blue dots\n",
    "plt.plot(tt,y,color='orange',label='y',alpha=0.7)    # plot orange line\n",
    "plt.xlabel('time'); plt.legend()                      # labels\n",
    "plt.savefig('04-myFig.png',transparent=True,dpi=600) # save figure\n",
    "plt.show()                                           # show plot"
   ]
  },
  {
   "cell_type": "markdown",
   "metadata": {},
   "source": [
    "![expert](https://apmonitor.com/che263/uploads/Begin_Python/expert.png)\n",
    "\n",
    "### Plot Activity\n",
    "\n",
    "Create a plot that displays the data:\n",
    "\n",
    "```python\n",
    "xt = [0,0.1,0.2,0.3,0.5,0.8,1.0]\n",
    "yt = [1.0,2.1,3.5,6.5,7.2,5.9,6.3]\n",
    "```"
   ]
  },
  {
   "cell_type": "markdown",
   "metadata": {},
   "source": [
    "![idea](https://apmonitor.com/che263/uploads/Begin_Python/idea.png)\n",
    "\n",
    "### Scatter Plot\n",
    "\n",
    "Scatter plots are similar to regular plots but they show individuals points instead of values connected in series. Matplotlib and Plotly are used in this example. Matplotlib is fast and simple while Plotly has features for interactive plots."
   ]
  },
  {
   "cell_type": "code",
   "execution_count": null,
   "metadata": {},
   "outputs": [],
   "source": [
    "# matplotlib\n",
    "plt.scatter(x,y)\n",
    "plt.show()"
   ]
  },
  {
   "cell_type": "code",
   "execution_count": null,
   "metadata": {},
   "outputs": [],
   "source": [
    "# plotly\n",
    "fig = px.scatter(data,x='x',y='y',color='w',size='x',hover_data=['w'])\n",
    "fig.show()"
   ]
  },
  {
   "cell_type": "markdown",
   "metadata": {},
   "source": [
    "![expert](https://apmonitor.com/che263/uploads/Begin_Python/expert.png)\n",
    "\n",
    "### Scatter Plot Activity\n",
    "\n",
    "Create a scatter plot with `matplotlib` or `plotly` that displays `xt` paired with `yt` and `zt`:\n",
    "\n",
    "```python\n",
    "xt = np.array([0,0.1,0.2,0.3,0.5,0.8,1.0])\n",
    "yt = np.array([1.0,2.1,3.5,6.5,7.2,5.9,6.3])\n",
    "zt = xt*yt\n",
    "```\n",
    "\n",
    "Change the shape of the points to a square for `yt` and a triangle for `zt`. Add a label to indicate which points are `yt` and `zt`."
   ]
  },
  {
   "cell_type": "code",
   "execution_count": null,
   "metadata": {},
   "outputs": [],
   "source": []
  },
  {
   "cell_type": "markdown",
   "metadata": {},
   "source": [
    "![idea](https://apmonitor.com/che263/uploads/Begin_Python/idea.png)\n",
    "\n",
    "### Bar Chart\n",
    "\n",
    "Bar charts show a histogram distribution of count in a bin range. The `alpha` option is the transparency between `0` and `1`. A value of `0.7` is a good value to use to show the overlying and underlying data."
   ]
  },
  {
   "cell_type": "code",
   "execution_count": null,
   "metadata": {},
   "outputs": [],
   "source": [
    "bins = np.linspace(-3,3,31)\n",
    "plt.hist(y,bins,label='y')\n",
    "plt.hist(z,bins,alpha=0.7,label='z')\n",
    "plt.legend()\n",
    "plt.show()"
   ]
  },
  {
   "cell_type": "markdown",
   "metadata": {},
   "source": [
    "![expert](https://apmonitor.com/che263/uploads/Begin_Python/expert.png)\n",
    "\n",
    "### Bar Plot Activity\n",
    "\n",
    "Create a bar plot that displays the distribution of `xt`, `yt`, and `zt`:\n",
    "\n",
    "```python\n",
    "nt = 1000\n",
    "xt = np.random.rand(nt)\n",
    "yt = np.random.normal(0,1,nt)\n",
    "zt = xt*yt\n",
    "```\n",
    "\n",
    "Use `bins = np.linspace(-3,3,31)` to create the histogram distrubtion."
   ]
  },
  {
   "cell_type": "code",
   "execution_count": null,
   "metadata": {},
   "outputs": [],
   "source": []
  },
  {
   "cell_type": "markdown",
   "metadata": {},
   "source": [
    "![idea](https://apmonitor.com/che263/uploads/Begin_Python/idea.png)\n",
    "\n",
    "### Pair Plot\n",
    "\n",
    "A pair plot shows the correlation between variables. It has bar distributions on the diagonal and scatter plots on the off-diagonal. A pair plot also shows a different color (`hue`) by category `w`. Pair plots show correlations between pairs of variables that may be related and gives a good indication of features (explanatory inputs) that are used for classification or regression."
   ]
  },
  {
   "cell_type": "code",
   "execution_count": null,
   "metadata": {},
   "outputs": [],
   "source": [
    "sns.pairplot(data[['x','y','z','w']],hue=('w'))\n",
    "plt.show()"
   ]
  },
  {
   "cell_type": "markdown",
   "metadata": {},
   "source": [
    "![expert](https://apmonitor.com/che263/uploads/Begin_Python/expert.png)\n",
    "\n",
    "### Pair Plot Activity\n",
    "\n",
    "Create a pair plot that displays the correlation between `xt`, `yt`, and `zt` between the first 500 and second 500 random numbers that are categorized as `Dist`. Create a `pandas` dataframe with:\n",
    "\n",
    "```python\n",
    "nt = 100\n",
    "xt = np.random.rand(nt)\n",
    "yt = np.random.normal(0,1,nt)\n",
    "zt = xt*yt\n",
    "dt = pd.DataFrame(np.column_stack([xt,yt,zt]),columns=['xt','yt','zt'])\n",
    "dt['Dist'] = 'First'\n",
    "for i in range(int(nt/2),nt):\n",
    "    dt.at[i,'Dist'] = 'Second'\n",
    "```"
   ]
  },
  {
   "cell_type": "code",
   "execution_count": null,
   "metadata": {},
   "outputs": [],
   "source": []
  },
  {
   "cell_type": "markdown",
   "metadata": {},
   "source": [
    "![idea](https://apmonitor.com/che263/uploads/Begin_Python/idea.png)\n",
    "\n",
    "### Box Plot\n",
    "\n",
    "A box plot shows data quartiles. In this case, we are comparing the first 500 points with the last 500 points."
   ]
  },
  {
   "cell_type": "code",
   "execution_count": null,
   "metadata": {},
   "outputs": [],
   "source": [
    "sns.boxplot(x='w',y='x',data=data)\n",
    "plt.show()"
   ]
  },
  {
   "cell_type": "markdown",
   "metadata": {},
   "source": [
    "![expert](https://apmonitor.com/che263/uploads/Begin_Python/expert.png)\n",
    "\n",
    "### Box Plot Activity\n",
    "\n",
    "Create a box plot that shows the quartiles of `yt` by first and second sets as indicated in `Dist`."
   ]
  },
  {
   "cell_type": "code",
   "execution_count": null,
   "metadata": {},
   "outputs": [],
   "source": []
  },
  {
   "cell_type": "markdown",
   "metadata": {},
   "source": [
    "![idea](https://apmonitor.com/che263/uploads/Begin_Python/idea.png)\n",
    "\n",
    "### Violin Plot\n",
    "\n",
    "A voilin plot combines the box plot quartiles with the distribution."
   ]
  },
  {
   "cell_type": "code",
   "execution_count": null,
   "metadata": {},
   "outputs": [],
   "source": [
    "sns.violinplot(x='w',y='x',data=data,size=6)\n",
    "plt.show()"
   ]
  },
  {
   "cell_type": "markdown",
   "metadata": {},
   "source": [
    "![expert](https://apmonitor.com/che263/uploads/Begin_Python/expert.png)\n",
    "\n",
    "### Violin Plot Activity\n",
    "\n",
    "Create a violin plot that shows the quartiles and distribution of `zt` by first and second sets as indicated in `Dist` in the DataFrame `dt`."
   ]
  },
  {
   "cell_type": "code",
   "execution_count": null,
   "metadata": {},
   "outputs": [],
   "source": []
  },
  {
   "cell_type": "markdown",
   "metadata": {},
   "source": [
    "![idea](https://apmonitor.com/che263/uploads/Begin_Python/idea.png)\n",
    "\n",
    "### Joint Plot\n",
    "\n",
    "A joint plot shows two variables, with the univariate and joint distributions. Try `kind='reg'`, `'kde'`, and `'hex'` to see different joint plot styles."
   ]
  },
  {
   "cell_type": "code",
   "execution_count": null,
   "metadata": {},
   "outputs": [],
   "source": [
    "sns.jointplot('x','z',data=data,kind=\"kde\")\n",
    "plt.show()"
   ]
  },
  {
   "cell_type": "markdown",
   "metadata": {},
   "source": [
    "![expert](https://apmonitor.com/che263/uploads/Begin_Python/expert.png)\n",
    "\n",
    "### Joint Plot Activity\n",
    "\n",
    "Create a joint plot that shows the joint distribution of `yt` and `zt` in the DataFrame `dt`."
   ]
  },
  {
   "cell_type": "code",
   "execution_count": null,
   "metadata": {},
   "outputs": [],
   "source": []
  },
  {
   "cell_type": "markdown",
   "metadata": {},
   "source": [
    "### TCLab Activity\n",
    "\n",
    "![expert](https://apmonitor.com/che263/uploads/Begin_Python/expert.png)"
   ]
  },
  {
   "cell_type": "markdown",
   "metadata": {},
   "source": [
    "### Generate or Retrieve Data \n",
    "\n",
    "![connections](https://apmonitor.com/che263/uploads/Begin_Python/connections.png)\n",
    "\n",
    "A sample data file loads if you do not have a TCLab connected. Otherwise, generate a file from the TCLab data with seconds (`t`), heater levels (`Q1` and `Q2`), and temperatures (`lab.T1` and `lab.T2`). Record data every second for 120 seconds and change the heater levels every 30 seconds to a random number between 0 and 80 with `np.random.randint()`. There is no need to change this program, only run it to collect the data over 2 minutes. "
   ]
  },
  {
   "cell_type": "code",
   "execution_count": null,
   "metadata": {},
   "outputs": [],
   "source": [
    "import tclab, time, csv\n",
    "import numpy as np\n",
    "try:\n",
    "    n = 120 \n",
    "    with open('04-tclab.csv',mode='w',newline='') as f:\n",
    "        cw = csv.writer(f)\n",
    "        cw.writerow(['Time','Q1','Q2','T1','T2'])\n",
    "        with tclab.TCLab() as lab:\n",
    "            print('t Q1 Q2 T1    T2')\n",
    "            for t in range(n):\n",
    "                if t%30==0:\n",
    "                    Q1 = np.random.randint(0,81)\n",
    "                    Q2 = np.random.randint(0,81)\n",
    "                    lab.Q1(Q1); lab.Q2(Q2)\n",
    "                cw.writerow([t,Q1,Q2,lab.T1,lab.T2])\n",
    "                if t%5==0:\n",
    "                    print(t,Q1,Q2,lab.T1,lab.T2)\n",
    "                time.sleep(1)\n",
    "    data4=pd.read_csv('04-tclab.csv')\n",
    "except:\n",
    "    print('Connect TCLab to generate data')\n",
    "    url = 'http://apmonitor.com/do/uploads/Main/tclab_dyn_data2.txt'\n",
    "    data4=pd.read_csv(url)\n",
    "    data4.columns = ['Time','Q1','Q2','T1','T2']\n",
    "    \n",
    "data4.head()    "
   ]
  },
  {
   "cell_type": "markdown",
   "metadata": {},
   "source": [
    "### Graphical Analysis\n",
    "\n",
    "Analyze `Q1`, `Q2`, `T1`, and `T2` graphically with a time series plot and a pair plot. The time series plot should show `Q1` and `Q2` in the upper subplot and `T1` and `T2` in the lower subplot. The pair plot should be a `2x2` plot grid that shows the heater / temperature pairs as `Q1`/`T1`, `Q2`/`T2`. "
   ]
  },
  {
   "cell_type": "code",
   "execution_count": null,
   "metadata": {},
   "outputs": [],
   "source": []
  }
 ],
 "metadata": {
  "kernelspec": {
   "display_name": "Python 3",
   "language": "python",
   "name": "python3"
  },
  "language_info": {
   "codemirror_mode": {
    "name": "ipython",
    "version": 3
   },
   "file_extension": ".py",
   "mimetype": "text/x-python",
   "name": "python",
   "nbconvert_exporter": "python",
   "pygments_lexer": "ipython3",
   "version": "3.8.5"
  }
 },
 "nbformat": 4,
 "nbformat_minor": 2
}
