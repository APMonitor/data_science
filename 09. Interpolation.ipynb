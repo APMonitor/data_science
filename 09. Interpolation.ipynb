{
 "cells": [
  {
   "cell_type": "markdown",
   "metadata": {},
   "source": [
    "## 9. Interpolation\n",
    "\n",
    "[Data Science Playlist on YouTube](https://www.youtube.com/watch?v=XstK9M4jzBY&list=PLLBUgWXdTBDg1Qgmwt4jKtVn9BWh5-zgy)\n",
    "[![Python Data Science](https://apmonitor.com/che263/uploads/Begin_Python/DataScience09.png)](https://www.youtube.com/watch?v=XstK9M4jzBY&list=PLLBUgWXdTBDg1Qgmwt4jKtVn9BWh5-zgy \"Python Data Science\")\n",
    "\n",
    "Interpolation constructs new prediction points from a discrete set of known data points. There are many types of interpolation such as nearest neighbor (piecewise constant), linear, polynomial, [cubic spline](https://apmonitor.com/wiki/index.php/Main/ObjectCspline), and [basis spline](https://apmonitor.com/wiki/index.php/Main/ObjectBspline). In interpolation, the data provide the shape of the approximate function, with piecewise or higher-order polynomial equations to exactly match the data points at those given discrete locations.\n",
    "\n",
    "![charge](https://apmonitor.com/che263/uploads/Begin_Python/charge.png)\n",
    "\n",
    "### 1D Interpolation\n",
    "\n",
    "The `scipy.interpolate` package has a function for one (`interp1d`) dimensional interpolation where `kind` is `nearest`, `previous`, `next`, `zero`, `linear`, `quadratic`, `cubic`, or a number as `0`-`3`."
   ]
  },
  {
   "cell_type": "code",
   "execution_count": null,
   "metadata": {},
   "outputs": [],
   "source": [
    "import numpy as np\n",
    "x = np.array([0,1,2,3,4,5])\n",
    "y = np.array([0.1,0.25,0.3,0.5,1.0,0.9])\n",
    "\n",
    "# 1D interpolation\n",
    "from scipy.interpolate import interp1d\n",
    "f = interp1d(x,y,kind='cubic')\n",
    "print(f(4.5)) # predict at 4.5"
   ]
  },
  {
   "cell_type": "markdown",
   "metadata": {},
   "source": [
    "![analyze](https://apmonitor.com/che263/uploads/Begin_Python/analyze.png)\n",
    "\n",
    "### Plot 1D Interpolation\n",
    "\n",
    "Several of the 1d interpolations are displayed graphically. Don't forget to add extra points such as `xp=np.linspace(0,5,100)` when plotting the interpolation or everything will look like a linear interpolation."
   ]
  },
  {
   "cell_type": "code",
   "execution_count": null,
   "metadata": {},
   "outputs": [],
   "source": [
    "xp = np.linspace(0,5,100)\n",
    "y1 = interp1d(x,y,kind='nearest')\n",
    "y2 = interp1d(x,y,kind=1)\n",
    "y3 = interp1d(x,y,kind=3)\n",
    "\n",
    "import matplotlib.pyplot as plt\n",
    "%matplotlib inline\n",
    "plt.plot(xp,y1(xp),'g-',label='Nearest')\n",
    "plt.plot(xp,y2(xp),'r--',label='Linear Interp')\n",
    "plt.plot(xp,y3(xp),'k:',label='Cubic Spline')\n",
    "plt.plot(x,y,'bo',label='Data')\n",
    "plt.legend()\n",
    "plt.show()"
   ]
  },
  {
   "cell_type": "markdown",
   "metadata": {},
   "source": [
    "One caution with retrieving values from an interpolation is that there will be an error such as `ValueError: A value in x_new is above the interpolation range.` if you request a value outside the interpolation region such as `f(5.5)`."
   ]
  },
  {
   "cell_type": "markdown",
   "metadata": {},
   "source": [
    "![expert](https://apmonitor.com/che263/uploads/Begin_Python/expert.png)\n",
    "\n",
    "### Interpolation Activity\n",
    "\n",
    "Create a linear interpolation with the following data.\n",
    "\n",
    "```python\n",
    "xr = [0.0,1.0,2.0,5.0]\n",
    "yr = [0.2,0.4,1.05,1.7]\n",
    "```\n",
    "\n",
    "Use the interpolation to predict the value at `xr=3.5`."
   ]
  },
  {
   "cell_type": "code",
   "execution_count": null,
   "metadata": {},
   "outputs": [],
   "source": []
  },
  {
   "cell_type": "markdown",
   "metadata": {},
   "source": [
    "![gekko](https://apmonitor.com/che263/uploads/Begin_Python/gekko.png)\n",
    "\n",
    "The type of spline is important for certain applications such as optimization. Gradient-based solvers perform better with continuous functions that also have continuous gradients. For this reason, a quadratic or cubic spline may be preferable to a linear interpolation. The following is an example of optimization with a cubic spline in Gekko. The original function is $\\frac{1}{1+25 \\, x^2}$ with the objective to find the maximum using only function values at `xr=[-1.0 -0.8 -0.5 -0.25 -0.1 0.1 0.2 0.5]`."
   ]
  },
  {
   "cell_type": "code",
   "execution_count": 19,
   "metadata": {},
   "outputs": [
    {
     "data": {
      "image/png": "[encoded data removed]",
      "text/plain": [
       "<Figure size 432x288 with 1 Axes>"
      ]
     },
     "metadata": {
      "needs_background": "light"
     },
     "output_type": "display_data"
    }
   ],
   "source": [
    "from gekko import GEKKO\n",
    "import numpy as np\n",
    "import matplotlib.pyplot as plt\n",
    "\n",
    "# generate data\n",
    "def f(x):\n",
    "    return 1.0/(1.0+25.0*x**2)\n",
    "xr = np.array([-1.0,-0.8,-0.5,-0.25,-0.1,0.1,0.2,0.5])\n",
    "yr = f(xr)\n",
    "\n",
    "# create cubic spline and maximize\n",
    "c = GEKKO(remote=False)\n",
    "xg = c.Var(); yg = c.Var()\n",
    "c.cspline(xg,yg,xr,yr,True)\n",
    "c.Maximize(yg)\n",
    "c.solve(disp=False)\n",
    "\n",
    "xp = np.linspace(-1,0.5,100)\n",
    "plt.plot(xp,f(xp),'b-',label=r'$f(x) = \\frac{1}{1+25x^2}$')\n",
    "plt.plot(xr,yr,'ro',label='Data')\n",
    "plt.plot(xg.value[0],yg.value[0],'kx',label='C-spline Maximum')\n",
    "plt.legend(loc='best')\n",
    "plt.show()"
   ]
  },
  {
   "cell_type": "markdown",
   "metadata": {},
   "source": [
    "![expert](https://apmonitor.com/che263/uploads/Begin_Python/expert.png)\n",
    "\n",
    "### Cubic Spline Activity\n",
    "\n",
    "Create a cubic spline with the following data.\n",
    "\n",
    "```python\n",
    "xr = [0.0,1.0,2.0,3.0,4.0,5.0]\n",
    "yr = [46.0,6.6,0.13,0.026,3.84,33.0]\n",
    "```\n",
    "\n",
    "Construct a cubic spline and find the minimum of the function."
   ]
  },
  {
   "cell_type": "code",
   "execution_count": null,
   "metadata": {},
   "outputs": [],
   "source": []
  },
  {
   "cell_type": "markdown",
   "metadata": {},
   "source": [
    "![idea](https://apmonitor.com/che263/uploads/Begin_Python/idea.png)\n",
    "\n",
    "### 2D Interpolation\n",
    "\n",
    "There is also a function for two dimensional (`interp2d`) interpolation where `kind` is `linear` or `cubic`."
   ]
  },
  {
   "cell_type": "code",
   "execution_count": null,
   "metadata": {},
   "outputs": [],
   "source": [
    "# 2D interpolation\n",
    "from scipy.interpolate import interp2d\n",
    "x2 = np.arange(-1.5, 1.01, 0.5)\n",
    "y2 = np.arange(-1.5, 1.01, 0.5)\n",
    "xx, yy = np.meshgrid(x2, y2)\n",
    "zz = np.sin(xx**2+yy**2)\n",
    "f2 = interp2d(x2, y2, zz, kind='cubic')\n",
    "print(f2(4.5,1)) # predict z at (x=4.5, y=1)"
   ]
  },
  {
   "cell_type": "markdown",
   "metadata": {},
   "source": [
    "![analyze](https://apmonitor.com/che263/uploads/Begin_Python/analyze.png)\n",
    "\n",
    "### Plot 2D Interpolation\n",
    "\n",
    "A 3D plot shows the data points in `red` and the cubic interpolation in `blue`. The plot includes a 3D scatter plot for the data and a surface plot for the cubic spline."
   ]
  },
  {
   "cell_type": "code",
   "execution_count": null,
   "metadata": {},
   "outputs": [],
   "source": [
    "from mpl_toolkits.mplot3d import Axes3D\n",
    "fig = plt.figure(figsize=(8,5))\n",
    "ax = fig.add_subplot(111, projection='3d')\n",
    "ax.scatter(xx,yy,zz,color='red',label='Data')\n",
    "xe = np.arange(-1.5, 1.01, 0.1)\n",
    "ye = np.arange(-1.5, 1.01, 0.1)\n",
    "xxe, yye = np.meshgrid(xe, ye)\n",
    "fe = np.empty_like(xxe)\n",
    "for i in range(np.size(fe,0)):\n",
    "    for j in range(np.size(fe,1)):\n",
    "        fe[i,j] = f2(xxe[i,j],yye[i,j])\n",
    "ax.plot_surface(xxe,yye,fe,color='blue',alpha=0.7)\n",
    "plt.legend()\n",
    "plt.show()"
   ]
  },
  {
   "cell_type": "markdown",
   "metadata": {},
   "source": [
    "![expert](https://apmonitor.com/che263/uploads/Begin_Python/expert.png)\n",
    "\n",
    "### TCLab Activity\n",
    "\n",
    "![temperature](https://apmonitor.com/che263/uploads/Begin_Python/temperature.png)\n",
    "\n",
    "### Record Temperatures\n",
    "\n",
    "Turn on heater 1 to 100% and record $T_1$ and $T_2$ every 10 seconds for 3 minutes. The data should include a total of 19 data points for each temperature sensor and the recording time, starting at zero.\n",
    "\n",
    "![connections](https://apmonitor.com/che263/uploads/Begin_Python/connections.png)"
   ]
  },
  {
   "cell_type": "code",
   "execution_count": null,
   "metadata": {},
   "outputs": [],
   "source": []
  },
  {
   "cell_type": "markdown",
   "metadata": {},
   "source": [
    "![expert](https://apmonitor.com/che263/uploads/Begin_Python/expert.png)\n",
    "\n",
    "### Interpolation\n",
    "\n",
    "Create an interpolation function between the measured points for $T_1$ using a linear interpolation. Show the recorded $T_1$ as red dots and the linear interpolation as a black line. Add x-label and y-labels as well as a plot legend."
   ]
  },
  {
   "cell_type": "code",
   "execution_count": null,
   "metadata": {},
   "outputs": [],
   "source": []
  },
  {
   "cell_type": "markdown",
   "metadata": {},
   "source": [
    "![expert](https://apmonitor.com/che263/uploads/Begin_Python/expert.png)\n",
    "\n",
    "### Interpolation versus Regression\n",
    "\n",
    "Create an interpolation function between the measured points for $T_2$ using a cubic spline. Compare the piecewise cubic spline to a 3rd order polynomial regression. Show the recorded $T_2$ as blue dots, the cubic spline interpolation as a black dashed line, and the polynomial regression as a red dotted line. Add appropriate labels to the plot."
   ]
  },
  {
   "cell_type": "code",
   "execution_count": null,
   "metadata": {},
   "outputs": [],
   "source": []
  }
 ],
 "metadata": {
  "kernelspec": {
   "display_name": "Python 3",
   "language": "python",
   "name": "python3"
  },
  "language_info": {
   "codemirror_mode": {
    "name": "ipython",
    "version": 3
   },
   "file_extension": ".py",
   "mimetype": "text/x-python",
   "name": "python",
   "nbconvert_exporter": "python",
   "pygments_lexer": "ipython3",
   "version": "3.8.5"
  }
 },
 "nbformat": 4,
 "nbformat_minor": 2
}
