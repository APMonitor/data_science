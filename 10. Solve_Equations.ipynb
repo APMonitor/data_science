{
 "cells": [
  {
   "cell_type": "markdown",
   "metadata": {},
   "source": [
    "## 10. Solve Equations\n",
    "\n",
    "[![Python Data Science](https://apmonitor.com/che263/uploads/Begin_Python/DataScience10.png)](https://www.youtube.com/watch?v=EO_YpBs8cs0 \"Python Data Science\")\n",
    "\n",
    "Equations are at the root of data science. It is what turns data into actionable information by developing mathematical expressions that mimic physical systems. Some of the math expressions are not simple caculation that can be calculated sequentially such as\n",
    "\n",
    "$x=1 \\quad y=x^2+2x-4$\n",
    "\n",
    "The solution is $x=1$ and $y=1+2-4=-1$. Consider the case where $x$ also depends on $y$.\n",
    "\n",
    "$x=y \\quad y=x^2+2x-4$\n",
    "\n",
    "There are now two solutions that are given by the quadratic formula.\n",
    "\n",
    "$0=y^2+(2y-y)-4 \\quad y^2+y-4 = 0$\n",
    "\n",
    "$y = \\frac{-1 \\pm \\sqrt{17}}{2} = {1.56,-2.56}$\n",
    "\n",
    "There are two ways to solve this problem. The first method is a numeric solution where the computer uses trial and error methods to get to a solution. Numeric methods are best when the number of equations is large and there is no analytic solution. The second method is a symbolic solution that produces an exact solution.\n",
    "\n",
    "![idea](https://apmonitor.com/che263/uploads/Begin_Python/idea.png)\n",
    "\n",
    "### Numeric Solution\n",
    "\n",
    "Large-scale and complex problems require a numeric solution approach such as with `fsolve`. It requires a function that returns the equation error residual."
   ]
  },
  {
   "cell_type": "code",
   "execution_count": null,
   "metadata": {},
   "outputs": [],
   "source": [
    "from scipy.optimize import fsolve\n",
    "def f(y):\n",
    "    return y**2+y-4\n",
    "z = fsolve(f,1); print(z)\n",
    "z = fsolve(f,-2); print(z)"
   ]
  },
  {
   "cell_type": "markdown",
   "metadata": {},
   "source": [
    "It is similar when there are two equations instead of one. The function returns the error residual for each equation as a list. Two initial guesses are needed. This same method extends to more equations as well. Equation solvers can find solutions to problems with thousands or millions of variables."
   ]
  },
  {
   "cell_type": "code",
   "execution_count": null,
   "metadata": {},
   "outputs": [],
   "source": [
    "from scipy.optimize import fsolve\n",
    "def f(z):\n",
    "    x,y = z\n",
    "    return [x-y,y-x**2-2*x+4]\n",
    "z = fsolve(f,[1,1]); print(z)\n",
    "z = fsolve(f,[-2,-2]); print(z)"
   ]
  },
  {
   "cell_type": "markdown",
   "metadata": {},
   "source": [
    "![idea](https://apmonitor.com/che263/uploads/Begin_Python/idea.png)\n",
    "\n",
    "### Symbolic Solution\n",
    "\n",
    "Small problems may have an analytic solution that can be expressed symbolically. A symbolic math package in Python is `sympy`. The command `sym.init_printing()` gives LaTeX generated equations from the symbolic solutions. The `display` function is also available to print the equations in Jupyter notebooks but it requires the import `from IPython.display import display`."
   ]
  },
  {
   "cell_type": "code",
   "execution_count": null,
   "metadata": {},
   "outputs": [],
   "source": [
    "import sympy as sym\n",
    "x = sym.Symbol('x')\n",
    "y = sym.Symbol('y')\n",
    "ans = sym.nonlinsolve([x-y, y-x**2-2*x+4], [x,y])\n",
    "sym.pprint(ans)"
   ]
  },
  {
   "cell_type": "markdown",
   "metadata": {},
   "source": [
    "![idea](https://apmonitor.com/che263/uploads/Begin_Python/idea.png)\n",
    "\n",
    "### Linear Equations\n",
    "\n",
    "Linear equations are also solved in Python but have efficient methods such as `x = np.linalg.solve(A,b)` to solve $A x = b$ equations with matrix $A$ and vectors $x$ and $b$.\n",
    "\n",
    "$A = \\begin{bmatrix}3 & 2\\\\ 1 & 2 \\end{bmatrix} \\quad b = \\begin{bmatrix}1 \\\\ 0 \\end{bmatrix}$"
   ]
  },
  {
   "cell_type": "code",
   "execution_count": null,
   "metadata": {},
   "outputs": [],
   "source": [
    "import numpy as np\n",
    "A = np.array([[3,2],[1,2]])\n",
    "b = np.array([1,0])\n",
    "\n",
    "x = np.linalg.solve(A,b)\n",
    "print(x)"
   ]
  },
  {
   "cell_type": "markdown",
   "metadata": {},
   "source": [
    "A symbolic solution to this set of linear equations is also available using the `sympy` `linsolve` function. If the problem is linear then `linsolve` is preferred because it is more efficient than `nonlinsolve` but it can solve both."
   ]
  },
  {
   "cell_type": "code",
   "execution_count": 3,
   "metadata": {},
   "outputs": [
    {
     "name": "stdout",
     "output_type": "stream",
     "text": [
      "{(1/2, -1/4)}\n"
     ]
    }
   ],
   "source": [
    "import sympy as sym\n",
    "x, y = sym.symbols('x y')\n",
    "ans = sym.linsolve([3*x + 2*y - 1, x + 2*y], (x, y))\n",
    "sym.pprint(ans)"
   ]
  },
  {
   "cell_type": "markdown",
   "metadata": {},
   "source": [
    "### TCLab Activity\n",
    "\n",
    "![expert](https://apmonitor.com/che263/uploads/Begin_Python/expert.png)\n",
    "\n",
    "#### Record Temperatures\n",
    "\n",
    "Turn on heater 1 to 100% and record $T_1$ and $T_2$ every 10 seconds for 3 minutes. The data should include a total of 19 data points for each temperature sensor and the recording time, starting at zero."
   ]
  },
  {
   "cell_type": "code",
   "execution_count": null,
   "metadata": {},
   "outputs": [],
   "source": []
  },
  {
   "cell_type": "markdown",
   "metadata": {},
   "source": [
    "#### Interpolation\n",
    "\n",
    "Create an interpolation function between the measured points for $T_1$ using a linear interpolation. Show the recorded $T_1$ as red dots and the linear interpolation as a black line. Add x-label and y-labels as well as a plot legend."
   ]
  },
  {
   "cell_type": "code",
   "execution_count": null,
   "metadata": {},
   "outputs": [],
   "source": []
  },
  {
   "cell_type": "markdown",
   "metadata": {},
   "source": [
    "#### Interpolation versus Regression\n",
    "\n",
    "Create an interpolation function between the measured points for $T_2$ using a cubic spline. Compare the piecewise cubic spline to a 3rd order polynomial regression. Show the recorded $T_2$ as blue dots, the cubic spline interpolation as a black dashed line, and the polynomial regression as a red dotted line. Add appropriate labels to the plot."
   ]
  },
  {
   "cell_type": "code",
   "execution_count": null,
   "metadata": {},
   "outputs": [],
   "source": []
  }
 ],
 "metadata": {
  "kernelspec": {
   "display_name": "Python 3",
   "language": "python",
   "name": "python3"
  },
  "language_info": {
   "codemirror_mode": {
    "name": "ipython",
    "version": 3
   },
   "file_extension": ".py",
   "mimetype": "text/x-python",
   "name": "python",
   "nbconvert_exporter": "python",
   "pygments_lexer": "ipython3",
   "version": "3.7.4"
  }
 },
 "nbformat": 4,
 "nbformat_minor": 2
}
