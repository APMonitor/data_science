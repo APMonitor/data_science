{
 "cells": [
  {
   "cell_type": "markdown",
   "metadata": {},
   "source": [
    "## 10. Solve Equations\n",
    "\n",
    "[![Python Data Science](https://apmonitor.com/che263/uploads/Begin_Python/DataScience10.png)](https://www.youtube.com/watch?v=EO_YpBs8cs0 \"Python Data Science\")\n",
    "\n",
    "Equations are at the root of data science. It is what turns data into actionable information by developing mathematical expressions that mimic physical systems. Some of the math expressions are not simple caculation that can be calculated sequentially such as\n",
    "\n",
    "$x=1 \\quad y=x^2+2x-4$\n",
    "\n",
    "The solution is $x=1$ and $y=1+2-4=-1$. Consider the case where $x$ also depends on $y$.\n",
    "\n",
    "$x=y \\quad y=x^2+2x-4$\n",
    "\n",
    "There are now two solutions that are given by the quadratic formula.\n",
    "\n",
    "$0=y^2+(2y-y)-4 \\quad y^2+y-4 = 0$\n",
    "\n",
    "$y = \\frac{-1 \\pm \\sqrt{17}}{2} = {1.56,-2.56}$\n",
    "\n",
    "There are two ways to solve this problem. The first method is a numeric solution where the computer uses trial and error methods to get to a solution. Numeric methods are best when the number of equations is large and there is no analytic solution. The second method is a symbolic solution that produces an exact solution.\n",
    "\n",
    "![idea](https://apmonitor.com/che263/uploads/Begin_Python/idea.png)\n",
    "\n",
    "### Numeric Solution\n",
    "\n",
    "Large-scale and complex problems require a numeric solution approach such as with `fsolve`. It requires a function that returns the equation error residual."
   ]
  },
  {
   "cell_type": "code",
   "execution_count": null,
   "metadata": {},
   "outputs": [],
   "source": [
    "from scipy.optimize import fsolve\n",
    "def f(y):\n",
    "    return y**2+y-4\n",
    "z = fsolve(f,1); print(z)\n",
    "z = fsolve(f,-2); print(z)"
   ]
  },
  {
   "cell_type": "markdown",
   "metadata": {},
   "source": [
    "It is similar when there are two equations instead of one. The function returns the error residual for each equation as a list. Two initial guesses are needed. This same method extends to more equations as well. Equation solvers can find solutions to problems with thousands or millions of variables."
   ]
  },
  {
   "cell_type": "code",
   "execution_count": null,
   "metadata": {},
   "outputs": [],
   "source": [
    "from scipy.optimize import fsolve\n",
    "def f(z):\n",
    "    x,y = z\n",
    "    return [x-y,y-x**2-2*x+4]\n",
    "z = fsolve(f,[1,1]); print(z)\n",
    "z = fsolve(f,[-2,-2]); print(z)"
   ]
  },
  {
   "cell_type": "markdown",
   "metadata": {},
   "source": [
    "![idea](https://apmonitor.com/che263/uploads/Begin_Python/idea.png)\n",
    "\n",
    "### Symbolic Solution\n",
    "\n",
    "Small problems may have an analytic solution that can be expressed symbolically. A symbolic math package in Python is `sympy`. The command `sym.init_printing()` gives LaTeX generated equations from the symbolic solutions. The `display` function is also available to print the equations in Jupyter notebooks but it requires the import `from IPython.display import display`."
   ]
  },
  {
   "cell_type": "code",
   "execution_count": null,
   "metadata": {},
   "outputs": [],
   "source": [
    "import sympy as sym\n",
    "x = sym.Symbol('x')\n",
    "y = sym.Symbol('y')\n",
    "ans = sym.nonlinsolve([x-y, y-x**2-2*x+4], [x,y])\n",
    "sym.pprint(ans)"
   ]
  },
  {
   "cell_type": "markdown",
   "metadata": {},
   "source": [
    "![idea](https://apmonitor.com/che263/uploads/Begin_Python/idea.png)\n",
    "\n",
    "### Linear Equations\n",
    "\n",
    "Linear equations are also solved in Python but have efficient methods such as `x = np.linalg.solve(A,b)` to solve $A x = b$ equations with matrix $A$ and vectors $x$ and $b$.\n",
    "\n",
    "$A = \\begin{bmatrix}3 & 2\\\\ 1 & 2 \\end{bmatrix} \\quad b = \\begin{bmatrix}1 \\\\ 0 \\end{bmatrix}$"
   ]
  },
  {
   "cell_type": "code",
   "execution_count": null,
   "metadata": {},
   "outputs": [],
   "source": [
    "import numpy as np\n",
    "A = np.array([[3,2],[1,2]])\n",
    "b = np.array([1,0])\n",
    "\n",
    "x = np.linalg.solve(A,b)\n",
    "print(x)"
   ]
  },
  {
   "cell_type": "markdown",
   "metadata": {},
   "source": [
    "A symbolic solution to this set of linear equations is also available using the `sympy` `linsolve` function. If the problem is linear then `linsolve` is preferred because it is more efficient than `nonlinsolve` but it can solve both."
   ]
  },
  {
   "cell_type": "code",
   "execution_count": null,
   "metadata": {},
   "outputs": [],
   "source": [
    "import sympy as sym\n",
    "x, y = sym.symbols('x y')\n",
    "ans = sym.linsolve([3*x + 2*y - 1, x + 2*y], (x, y))\n",
    "sym.pprint(ans)"
   ]
  },
  {
   "cell_type": "markdown",
   "metadata": {},
   "source": [
    "### TCLab Activity\n",
    "\n",
    "![expert](https://apmonitor.com/che263/uploads/Begin_Python/expert.png)\n",
    "\n",
    "### Data Collection\n",
    "\n",
    "![connections](https://apmonitor.com/che263/uploads/Begin_Python/connections.png)\n",
    "\n",
    "Turn on heater 1 to 100% and record $T_1$ every 10 seconds for 3 minutes. The data should include a total of 19 data points for each temperature sensor and the recording time, starting at zero. Make a note of the temperature points at 0, 90, and 180 seconds."
   ]
  },
  {
   "cell_type": "code",
   "execution_count": null,
   "metadata": {},
   "outputs": [],
   "source": []
  },
  {
   "cell_type": "markdown",
   "metadata": {},
   "source": [
    "### Linear Equations\n",
    "\n",
    "Three points are required to specify a quadratic polynomial of the form $y =a_0 + a_1 \\; x + a_2 \\; x^2$. Create a quadratic regression of $T_2$ by using only the first, middle, and last data points. Suppose these were the following data points for $T_2$:\n",
    "\n",
    "| Time (sec) | Temperature (degC)  |\n",
    "|------|------|\n",
    "| 0    | 23.0 |\n",
    "| 90    | 33.0 |\n",
    "| 180    | 43.0 |\n",
    "\n",
    "Solve the linear regression as a set of three equations that are derived by plugging in the three data points to the polynomial equation to create three separate equations with $y=T_2$ and $x=time$.\n",
    "\n",
    "$a_0 + a_1 \\; 0 + a_2 \\; 0^2 = 23.0$\n",
    "\n",
    "$a_0 + a_1 \\; 90 + a_2 \\; 90^2 = 33.0$\n",
    "\n",
    "$a_0 + a_1 \\; 180 + a_2 \\; 180^2 = 43.0$\n",
    "\n",
    "In matrix form, the set of linear equations becomes: \n",
    "\n",
    "$\\begin{bmatrix}1 & 0 & 0 \\\\ 1 & 90 & 90^2 \\\\ 1 & 180 & 180^2 \\end{bmatrix}\\begin{bmatrix}a_0\\\\a_1\\\\a_2\\end{bmatrix} = \\begin{bmatrix}23.0\\\\33.0\\\\43.0\\end{bmatrix}$\n",
    "\n",
    "Solve this set of equations for the quadratic parameters $a_0$, $a_1$, and $a_2$ with the data collected at the beginning of the TCLab activity. Plot the quadratic fit with the data to ensure that the curve goes through the three specified data points."
   ]
  },
  {
   "cell_type": "code",
   "execution_count": null,
   "metadata": {},
   "outputs": [],
   "source": []
  },
  {
   "cell_type": "markdown",
   "metadata": {},
   "source": [
    "![expert](https://apmonitor.com/che263/uploads/Begin_Python/expert.png)\n",
    "\n",
    "### Nonlinear Equations\n",
    "\n",
    "Fit the $T_1$ data to a nonlinear correlation using only three data points.\n",
    "\n",
    "$T_1 = a + b \\exp{(c \\, time)}$\n",
    "\n",
    "Three points are required to uniquely specify a model with three parameters. When there are more than the minimum required number of points, a least squares regression is typically performed to minimize the squared error between the measured and predicted values. For this exercise, use only 3 points (first, middle, last) of the $T_1$ data. Suppose these were the following data points for $T_1$:\n",
    "\n",
    "| Time (sec) | Temperature (degC)  |\n",
    "|------|------|\n",
    "| 0    | 22.0 |\n",
    "| 90    | 42.0 |\n",
    "| 180    | 52.0 |\n",
    "\n",
    "Solve for the three parameters from the three equations that exactly intersect the required data points.\n",
    "\n",
    "$22.0 = a + b \\exp{(c \\, 0)}$\n",
    "\n",
    "$42.0 = a + b \\exp{(c \\, 90.3)}$\n",
    "\n",
    "$52.0 = a + b \\exp{(c \\, 180.5)}$\n",
    "\n",
    "Solve this set of equations for the unknown parameters $a$, $b$, and $c$ with the data collected at the beginning of this notebook. Use guess values of $a=100$, $b=-100$, and $c=-0.01$. Plot the nonlinear fit with the data to ensure that the curve goes through the three specified data points. Add appropriate labels to the plot."
   ]
  },
  {
   "cell_type": "code",
   "execution_count": null,
   "metadata": {},
   "outputs": [],
   "source": []
  }
 ],
 "metadata": {
  "kernelspec": {
   "display_name": "Python 3",
   "language": "python",
   "name": "python3"
  },
  "language_info": {
   "codemirror_mode": {
    "name": "ipython",
    "version": 3
   },
   "file_extension": ".py",
   "mimetype": "text/x-python",
   "name": "python",
   "nbconvert_exporter": "python",
   "pygments_lexer": "ipython3",
   "version": "3.7.4"
  }
 },
 "nbformat": 4,
 "nbformat_minor": 2
}
