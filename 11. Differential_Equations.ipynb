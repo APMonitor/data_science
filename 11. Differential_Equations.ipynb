{
 "cells": [
  {
   "cell_type": "markdown",
   "metadata": {},
   "source": [
    "## 11. Differential Equations\n",
    "\n",
    "[Data Science Playlist on YouTube](https://www.youtube.com/watch?v=HReAo38LoM4&list=PLLBUgWXdTBDg1Qgmwt4jKtVn9BWh5-zgy)\n",
    "[![Python Data Science](https://apmonitor.com/che263/uploads/Begin_Python/DataScience11.png)](https://www.youtube.com/watch?v=HReAo38LoM4&list=PLLBUgWXdTBDg1Qgmwt4jKtVn9BWh5-zgy \"Python Data Science\")\n",
    "\n",
    "Specific types of equations with differential terms arise from fundamental relationships such as conservation of mass, energy, and momentum. For example, the accumulation of mass $\\frac{dm}{dt}$ in a control volume is equal to the mass inlet $\\dot m_{in}$ minus mass outlet $\\dot m_{out}$ from that volume.\n",
    "\n",
    "$\\frac{dm}{dt} = \\dot m_{in} - \\dot m_{out}$\n",
    "\n",
    "Dynamic models can either be regressed (identified) from data or developed without data with fundamental relationships. Even fundamental relationships may have unknown or uncertain parameters. A combined approach for dynamic system modeling is to use fundamental physics-based relationships with data science. This approach uses the best features of both methods. It creates a model that aligns to measured values and extrapolates to regions where there is no or little data.\n",
    "\n",
    "![exercise](https://apmonitor.com/che263/uploads/Begin_Python/exercise.png)\n",
    "\n",
    "The first exercise is to [solve differential equations](https://apmonitor.com/pdc/index.php/Main/SolveDifferentialEquations) with several examples using `odeint`. The same examples are also [solved with Gekko](https://apmonitor.com/pdc/index.php/Main/PythonDifferentialEquations). For simulation, the two give equivalent results but Gekko is built to use differential equations in optimization or combined with machine learning. The `odeint` function has a specific purpose to solve ODEs. The function `odeint` solves the differential equation requires 3 inputs.\n",
    "\n",
    "    y = odeint(model, y0, t)\n",
    "\n",
    "1. `model` Function name that returns derivative values at requested `y` and `t` values as `dydt = model(y,t)`\n",
    "2. `y0` Initial conditions of the differential states\n",
    "3. `t` Time points where the solution is reported \n",
    "\n",
    "![idea](https://apmonitor.com/che263/uploads/Begin_Python/idea.png)\n",
    "\n",
    "### Solve Differential Equation\n",
    "\n",
    "We solve the differential equation with initial condition $y(0) = 5$:\n",
    "\n",
    "$ k \\, \\frac{dy}{dt} = -y$\n",
    "\n",
    "where $k=10$. The solution of `y` is reported from an initial time `0` to final time `20` and with a plot of the result for $y(t)$ versus $t$. Notice how the equation is rearranged to return just the derivative value as `dydt = -(1.0/k) * y` from the function."
   ]
  },
  {
   "cell_type": "code",
   "execution_count": 2,
   "metadata": {},
   "outputs": [
    {
     "data": {
      "image/png": "[encoded data removed]",
      "text/plain": [
       "<Figure size 432x288 with 1 Axes>"
      ]
     },
     "metadata": {
      "needs_background": "light"
     },
     "output_type": "display_data"
    }
   ],
   "source": [
    "import numpy as np\n",
    "from scipy.integrate import odeint\n",
    "\n",
    "# function that returns dy/dt\n",
    "def model(y,t):\n",
    "    k = 10.0\n",
    "    dydt = -(1.0/k) * y\n",
    "    return dydt\n",
    "\n",
    "y0 = 5                 # initial condition\n",
    "t = np.linspace(0,20)  # time points\n",
    "y = odeint(model,y0,t) # solve ODE\n",
    "\n",
    "import matplotlib.pyplot as plt\n",
    "%matplotlib inline\n",
    "plt.plot(t,y)\n",
    "plt.xlabel('time'); plt.ylabel('y(t)')\n",
    "plt.show()"
   ]
  },
  {
   "cell_type": "markdown",
   "metadata": {},
   "source": [
    "![gekko](https://apmonitor.com/che263/uploads/Begin_Python/gekko.png)\n",
    "\n",
    "### Solve Differential Equation with Gekko\n",
    "\n",
    "[Python Gekko](https://gekko.readthedocs.io/en/latest/) solves the same differential equation problem. Gekko is built for large-scale problems. [Additional tutorials on Gekko](https://apmonitor.com/wiki/index.php/Main/GekkoPythonOptimization) show how to solve other types of equations and optimization problems."
   ]
  },
  {
   "cell_type": "code",
   "execution_count": 10,
   "metadata": {},
   "outputs": [
    {
     "data": {
      "image/png": "[encoded data removed]",
      "text/plain": [
       "<Figure size 432x288 with 1 Axes>"
      ]
     },
     "metadata": {
      "needs_background": "light"
     },
     "output_type": "display_data"
    }
   ],
   "source": [
    "from gekko import GEKKO\n",
    "\n",
    "m = GEKKO(remote=False)    # GEKKO model\n",
    "m.time = np.linspace(0,20) # time points\n",
    "y = m.Var(5.0); k = 10.0   # GEKKO variable and constant\n",
    "m.Equation(k*y.dt()+y==0)  # GEKKO equation\n",
    "\n",
    "m.options.IMODE = 4        # Dynamic simulation\n",
    "m.solve(disp=False)        # Solve\n",
    "\n",
    "plt.plot(m.time,y)\n",
    "plt.xlabel('time'); plt.ylabel('y(t)')\n",
    "plt.show()"
   ]
  },
  {
   "cell_type": "markdown",
   "metadata": {},
   "source": [
    "![expert](https://apmonitor.com/che263/uploads/Begin_Python/expert.png)\n",
    "\n",
    "### Differential Equation Activity\n",
    "\n",
    "Solve the differential equation with initial condition $y(0) = 10$:\n",
    "\n",
    "$ k \\, \\frac{dy}{dt} = -y$\n",
    "\n",
    "Compare the five solutions of `y` from time `0` to `20` with `k=[1,2,5,10,20]`."
   ]
  },
  {
   "cell_type": "code",
   "execution_count": null,
   "metadata": {},
   "outputs": [],
   "source": []
  },
  {
   "cell_type": "markdown",
   "metadata": {},
   "source": [
    "![idea](https://apmonitor.com/che263/uploads/Begin_Python/idea.png)\n",
    "\n",
    "### Symbolic Solution\n",
    "\n",
    "Compact differential equation problems may have an analytic solution that can be expressed symbolically. A symbolic math package in Python is `sympy`. Sympy determines the analytic solution as $y(x)=C_1 \\, \\exp{\\left(-\\frac{x}{k}\\right)}$. With the initial condition $y(0)=5$, the constant $C_1$ is equal to 5."
   ]
  },
  {
   "cell_type": "code",
   "execution_count": null,
   "metadata": {},
   "outputs": [],
   "source": [
    "from IPython.display import display\n",
    "import sympy as sym\n",
    "from sympy.abc import x, k\n",
    "y = sym.Function('y')\n",
    "ans = sym.dsolve(sym.Derivative(y(x), x) + y(x)/k, y(x))\n",
    "display(ans)"
   ]
  },
  {
   "cell_type": "markdown",
   "metadata": {},
   "source": [
    "![idea](https://apmonitor.com/che263/uploads/Begin_Python/idea.png)\n",
    "\n",
    "### Solve Differential Equation with Input `u`\n",
    "\n",
    "Differential equations can also have an input (feature) that changes from an external source (exogenous input) such as actively changed by a measurement sensor, a person (manually), or selected by a computer.\n",
    "\n",
    "![expert](https://apmonitor.com/che263/uploads/Begin_Python/expert.png)\n",
    "\n",
    "Calculate the response `y(t)` when the input `u` changes from `0` to `2` at `t=5`.\n",
    "\n",
    "$2 \\frac{dy(t)}{dt} + y(t) = u(t)$\n",
    "\n",
    "The initial condition is `y(0)=1` and the solution should be calculated until `t=15`. **Tip**: The expression `y(t)` does not mean `y` multiplied by `t`. It indicates that `y` changes with time and is written as a function of time. There are additional examples for [ODEINT](https://apmonitor.com/pdc/index.php/Main/SolveDifferentialEquations) and [GEKKO](https://apmonitor.com/pdc/index.php/Main/PythonDifferentialEquations) if you need help."
   ]
  },
  {
   "cell_type": "code",
   "execution_count": null,
   "metadata": {},
   "outputs": [],
   "source": []
  },
  {
   "cell_type": "markdown",
   "metadata": {},
   "source": [
    "### TCLab Activity\n",
    "\n",
    "![expert](https://apmonitor.com/che263/uploads/Begin_Python/expert.png)\n",
    "\n",
    "### Data Collection\n",
    "\n",
    "![connections](https://apmonitor.com/che263/uploads/Begin_Python/connections.png)\n",
    "\n",
    "Turn on heater 1 to 100% and record $T_1$ every 5 seconds for 3 minutes. The data should include a total of 37 data points for each temperature sensor."
   ]
  },
  {
   "cell_type": "code",
   "execution_count": null,
   "metadata": {},
   "outputs": [],
   "source": [
    "import numpy as np\n",
    "import pandas as pd\n",
    "import tclab\n",
    "import time\n",
    "# collect data for 3 minutes, every 5 sec\n",
    "n = 37\n",
    "tm = np.linspace(0,180,n)\n",
    "t1s = np.empty(n); t2s = np.empty(n)\n",
    "with tclab.TCLab() as lab:\n",
    "    lab.Q1(100); lab.Q2(0)\n",
    "    print('Time T1  T2')\n",
    "    for i in range(n):\n",
    "        t1s[i] = lab.T1; t2s[i] = lab.T2\n",
    "        print(tm[i],t1s[i],t2s[i])\n",
    "        time.sleep(5.0)\n",
    "# put into dataframe\n",
    "data = pd.DataFrame(np.column_stack((tm,t1s,t2s)),\\\n",
    "                    columns=['Time','T1','T2'])\n",
    "data.to_csv('11-data.csv',index=False)"
   ]
  },
  {
   "cell_type": "markdown",
   "metadata": {},
   "source": [
    "![expert](https://apmonitor.com/che263/uploads/Begin_Python/expert.png)\n",
    "\n",
    "### Solve Differential Equation\n",
    "\n",
    "Use the parameters `a`, `b`, and `c` from [10. Solve Equations](https://github.com/APMonitor/data_science/blob/master/10.%20Solve_Equations.ipynb) or use the following default values.\n",
    "\n",
    "| Parameter | Value |\n",
    "|------|------|\n",
    "| a    | 78.6 |\n",
    "| b    | -50.3 |\n",
    "| c    | -0.003677 |\n",
    "\n",
    "Solve the ordinary differential equation (ODE) with these values.\n",
    "\n",
    "$\\frac{dT_1}{dt} = c (T_1-a)$\n",
    "\n",
    "The initial condition for $T_1$ is $a + b$. Show the ODE solution at time points between the initial time `0` and the final time `180` sec. Plot the measured $T_1$ on the same plot as the ODE predicted temperature. Add appropriate labels to the plot."
   ]
  },
  {
   "cell_type": "code",
   "execution_count": null,
   "metadata": {},
   "outputs": [],
   "source": []
  }
 ],
 "metadata": {
  "kernelspec": {
   "display_name": "Python 3",
   "language": "python",
   "name": "python3"
  },
  "language_info": {
   "codemirror_mode": {
    "name": "ipython",
    "version": 3
   },
   "file_extension": ".py",
   "mimetype": "text/x-python",
   "name": "python",
   "nbconvert_exporter": "python",
   "pygments_lexer": "ipython3",
   "version": "3.8.5"
  }
 },
 "nbformat": 4,
 "nbformat_minor": 2
}
